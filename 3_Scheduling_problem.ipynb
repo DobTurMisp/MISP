{
  "nbformat": 4,
  "nbformat_minor": 0,
  "metadata": {
    "kernelspec": {
      "display_name": "Python 3",
      "language": "python",
      "name": "python3"
    },
    "language_info": {
      "codemirror_mode": {
        "name": "ipython",
        "version": 3
      },
      "file_extension": ".py",
      "mimetype": "text/x-python",
      "name": "python",
      "nbconvert_exporter": "python",
      "pygments_lexer": "ipython3",
      "version": "3.7.3"
    },
    "colab": {
      "name": "3_Scheduling_problem.ipynb",
      "provenance": [],
      "collapsed_sections": [],
      "include_colab_link": true
    }
  },
  "cells": [
    {
      "cell_type": "markdown",
      "metadata": {
        "id": "view-in-github",
        "colab_type": "text"
      },
      "source": [
        "<a href=\"https://colab.research.google.com/github/DobTurMisp/MISP/blob/master/3_Scheduling_problem.ipynb\" target=\"_parent\"><img src=\"https://colab.research.google.com/assets/colab-badge.svg\" alt=\"Open In Colab\"/></a>"
      ]
    },
    {
      "cell_type": "code",
      "metadata": {
        "id": "bQ0R5SQbHRuY",
        "colab_type": "code",
        "colab": {}
      },
      "source": [
        "from pulp import *\n",
        "import pandas as pd\n",
        "#Utworzenie problemu funkcji minimalizacji i stworzenie zmiennych decyzyjnych\n",
        "\n",
        "plan = pulp.LpProblem(\"plan\", pulp.LpMinimize)\n",
        "#Grafik na dni tygodnia dla każdego pracownika\n",
        "gpIgorPon = pulp.LpVariable('Godziny pracy Igor Pon', lowBound=0, cat='Continous')\n",
        "gpIgorWt = pulp.LpVariable('Godziny pracy Igor Wt', lowBound=0, cat='Continous')\n",
        "gpIgorSr = pulp.LpVariable('Godziny pracy Igor Sr', lowBound=0, cat='Continous')\n",
        "gpIgorCzw = pulp.LpVariable('Godziny pracy Igor Czw', lowBound=0, cat='Continous')\n",
        "gpIgorPt = pulp.LpVariable('Godziny pracy Igor Pt', lowBound=0, cat='Continous')\n",
        "gpIgorSob = pulp.LpVariable('Godziny pracy Igor Sob', lowBound=0, cat='Continous')\n",
        "\n",
        "gpMarcinPon = pulp.LpVariable('Godziny pracy Marcin Pon', lowBound=0, cat='Continous')\n",
        "gpMarcinWt = pulp.LpVariable('Godziny pracy Marcin Wt', lowBound=0, cat='Continous')\n",
        "gpMarcinSr = pulp.LpVariable('Godziny pracy Marcin Sr', lowBound=0, cat='Continous')\n",
        "gpMarcinCzw = pulp.LpVariable('Godziny pracy Marcin Czw', lowBound=0, cat='Continous')\n",
        "gpMarcinPt = pulp.LpVariable('Godziny pracy Marcin Pt', lowBound=0, cat='Continous')\n",
        "gpMarcinSob = pulp.LpVariable('Godziny pracy Marcin Sob', lowBound=0, cat='Continous')\n",
        "\n",
        "gpFranekPon = pulp.LpVariable('Godziny pracy Franek Pon', lowBound=0, cat='Continous')\n",
        "gpFranekWt = pulp.LpVariable('Godziny pracy Franek Wt', lowBound=0, cat='Continous')\n",
        "gpFranekSr = pulp.LpVariable('Godziny pracy Franek Sr', lowBound=0, cat='Continous')\n",
        "gpFranekCzw = pulp.LpVariable('Godziny pracy Franek Czw', lowBound=0, cat='Continous')\n",
        "gpFranekPt = pulp.LpVariable('Godziny pracy Franek Pt', lowBound=0, cat='Continous')\n",
        "gpFranekSob = pulp.LpVariable('Godziny pracy Franek Sob', lowBound=0, cat='Continous')\n",
        "\n",
        "\n",
        "gpPiotrPon = pulp.LpVariable('Godziny pracy Piotr Pon', lowBound=0, cat='Continous')\n",
        "gpPiotrWt = pulp.LpVariable('Godziny pracy Piotr Wt', lowBound=0, cat='Continous')\n",
        "gpPiotrSr = pulp.LpVariable('Godziny pracy Piotr Sr', lowBound=0, cat='Continous')\n",
        "gpPiotrCzw = pulp.LpVariable('Godziny pracy Piotr Czw', lowBound=0, cat='Continous')\n",
        "gpPiotrPt = pulp.LpVariable('Godziny pracy Piotr Pt', lowBound=0, cat='Continous')\n",
        "gpPiotrSob = pulp.LpVariable('Godziny pracy Piotr Sob', lowBound=0, cat='Continous')\n",
        "\n",
        "gpAdamPon = pulp.LpVariable('Godziny pracy Adam Pon', lowBound=0, cat='Continous')\n",
        "gpAdamWt = pulp.LpVariable('Godziny pracy Adam Wt', lowBound=0, cat='Continous')\n",
        "gpAdamSr = pulp.LpVariable('Godziny pracy Adam Sr', lowBound=0, cat='Continous')\n",
        "gpAdamCzw = pulp.LpVariable('Godziny pracy Adam Czw', lowBound=0, cat='Continous')\n",
        "gpAdamPt = pulp.LpVariable('Godziny pracy Adam Pt', lowBound=0, cat='Continous')\n",
        "gpAdamSob = pulp.LpVariable('Godziny pracy Adam Sob', lowBound=0, cat='Continous')\n",
        "\n",
        "gpZuzaPon = pulp.LpVariable('Godziny pracy Zuza Pon', lowBound=0, cat='Continous')\n",
        "gpZuzaWt = pulp.LpVariable('Godziny pracy Zuza Wt', lowBound=0, cat='Continous')\n",
        "gpZuzaSr = pulp.LpVariable('Godziny pracy Zuza Sr', lowBound=0, cat='Continous')\n",
        "gpZuzaCzw = pulp.LpVariable('Godziny pracy Zuza Czw', lowBound=0, cat='Continous')\n",
        "gpZuzaPt = pulp.LpVariable('Godziny pracy Zuza Pt', lowBound=0, cat='Continous')\n",
        "gpZuzaSob = pulp.LpVariable('Godziny pracy Zuza Sob', lowBound=0, cat='Continous')\n",
        "\n",
        "\n",
        "#Godziny czasu pracy\n",
        "gpIgor = pulp.LpVariable('Godziny pracy Igor', lowBound=0, cat='Continous')\n",
        "gpMarcin = pulp.LpVariable('Godziny pracy Marcin', lowBound=0, cat='Continous')\n",
        "gpFranek = pulp.LpVariable('Godziny pracy Franek', lowBound=0, cat='Continous')\n",
        "gpPiotr = pulp.LpVariable('Godziny pracy Piotr', lowBound=0, cat='Continous')\n",
        "gpAdam = pulp.LpVariable('Godziny pracy Adam', lowBound=0, cat='Continous')\n",
        "gpZuza = pulp.LpVariable('Godziny pracy Zuza', lowBound=0, cat='Continous')\n",
        "\n",
        "#Dostępność biblioteki\n",
        "dPon = pulp.LpVariable('Dostepnosc pon', lowBound=0, cat='Continous')\n",
        "dWt = pulp.LpVariable('Dostepnosc wt', lowBound=0, cat='Continous')\n",
        "dSr = pulp.LpVariable('Dostepnosc sr', lowBound=0, cat='Continous')\n",
        "dCzw = pulp.LpVariable('Dostepnosc czw', lowBound=0, cat='Continous')\n",
        "dPt = pulp.LpVariable('Dostepnosc pt', lowBound=0, cat='Continous')\n",
        "dSob = pulp.LpVariable('Dostepnosc sob', lowBound=0, cat='Continous')\n",
        "dNd = pulp.LpVariable('Dostepnosc nd', lowBound=0, cat='Continous')\n",
        "\n",
        "#Dostępność pracowników\n",
        "gdIgor = pulp.LpVariable('Dostępność Igor', lowBound=0, cat='Continous')\n",
        "gdMarcin = pulp.LpVariable('Dostępność Marcin', lowBound=0, cat='Continous')\n",
        "gdFranek = pulp.LpVariable('Dostępność Franek', lowBound=0, cat='Continous')\n",
        "gdPiotr = pulp.LpVariable('Dostępność Piotr', lowBound=0, cat='Continous')\n",
        "gdAdam = pulp.LpVariable('Dostępność Adam', lowBound=0, cat='Continous')\n",
        "gdZuza = pulp.LpVariable('Dostępność Zuza', lowBound=0, cat='Continous')"
      ],
      "execution_count": 0,
      "outputs": []
    },
    {
      "cell_type": "code",
      "metadata": {
        "id": "4sdC6fwfHRvj",
        "colab_type": "code",
        "colab": {}
      },
      "source": [
        "#Główny problem\n",
        "plan += dPon + dWt + dSr + dCzw + dPt + dSob + dNd == gpIgor + gpMarcin + gpFranek + gpPiotr + gpAdam + gpZuza, \"Godziny pracy\"\n",
        "plan += (gpIgor * 170) + (gpMarcin * 60) + (gpFranek * 80) + (gpPiotr * 200) + (gpAdam * 90) +(gpZuza * 10), \"Koszt pracy\"\n",
        "\n",
        "\n",
        "#Grafik na dni tyg\n",
        "plan += gpIgorPon+gpIgorWt+gpIgorSr+gpIgorCzw+gpIgorPt+gpIgorSob==gpIgor\n",
        "plan += gpPiotrPon+gpPiotrWt+gpPiotrSr+gpPiotrCzw+gpPiotrPt+gpPiotrSob==gpPiotr\n",
        "plan += gpZuzaPon+gpZuzaWt+gpZuzaSr+gpZuzaCzw+gpZuzaPt+gpZuzaSob==gpZuza\n",
        "plan += gpFranekPon+gpFranekWt+gpFranekSr+gpFranekCzw+gpFranekPt+gpFranekSob==gpFranek\n",
        "plan += gpAdamPon+gpAdamWt+gpAdamSr+gpAdamCzw+gpAdamPt+gpAdamSob==gpAdam\n",
        "plan += gpMarcinPon+gpMarcinWt+gpMarcinSr+gpMarcinCzw+gpMarcinPt+gpMarcinSob==gpMarcin\n",
        "\n",
        "\n",
        "plan += gpIgorPon + gpPiotrPon + gpZuzaPon + gpMarcinPon + gpAdamPon + gpFranekPon<=8\n",
        "plan += gpIgorWt + gpPiotrWt + gpZuzaWt + gpMarcinWt + gpAdamWt + gpFranekWt <=4\n",
        "plan += gpIgorSr + gpPiotrSr + gpZuzaSr + gpMarcinSr + gpAdamSr + gpFranekSr <=4\n",
        "plan += gpIgorCzw + gpPiotrCzw + gpZuzaCzw + gpMarcinCzw + gpAdamCzw + gpFranekCzw<=4\n",
        "plan += gpIgorPt + gpPiotrPt + gpZuzaPt + gpMarcinPt + gpAdamPt + gpFranekPt <=8\n",
        "plan += gpIgorSob + gpPiotrSob + gpZuzaSob + gpMarcinSob + gpAdamSob + gpFranekSob <=2\n",
        "\n",
        "#Ograniczenia\n",
        "\n",
        "#Maksymalna dostępność danych pracowników w ciągu tygodnia\n",
        "plan += gdIgor == 4, \"Czas Igora\"\n",
        "plan += gdMarcin == 4, \"Czas Marcina\"\n",
        "plan += gdFranek == 3, \"Czas Franka\"\n",
        "plan += gdPiotr == 8, \"Czas Piotra\"\n",
        "plan += gdAdam == 10, \"Czas Adama\"\n",
        "plan += gdZuza == 5, \"Czas Zuzy\"\n",
        "\n",
        "\n",
        "#Ilość godzin otwarcia biblioteki z podziałem na dni\n",
        "plan += dPon == 8, \"Otwarte w pon\"\n",
        "plan += dWt == 4, \"Otwarte we wt\"\n",
        "plan += dSr == 4, \"Otwarte w sr\"\n",
        "plan += dCzw == 4, \"Otwarte w czw\"\n",
        "plan += dPt == 8, \"Otwarte w pt\"\n",
        "plan += dSob == 2, \"Otwarte w sob\"\n",
        "plan += dNd == 0, \"Otwarte w nd\"\n",
        "\n",
        "#Ograniczenie mówiące, że nie mogą pracować dłużej niż są dostępni\n",
        "plan += gpIgor <= gdIgor, \"Czas pracy Igora\"\n",
        "plan += gpMarcin <= gdMarcin, \"Czas pracy Marcina\"\n",
        "plan += gpFranek <= gdFranek, \"Czas pracy Franka\"\n",
        "plan += gpPiotr <= gdPiotr, \"Czas pracy Piotra\"\n",
        "plan += gpAdam <= gdAdam, \"Czas pracy Adama\"\n",
        "plan += gpZuza <= gdZuza, \"Czas pracy Zuzy\"\n"
      ],
      "execution_count": 0,
      "outputs": []
    },
    {
      "cell_type": "code",
      "metadata": {
        "id": "cXVPPPWCHRwa",
        "colab_type": "code",
        "colab": {}
      },
      "source": [
        "plan.solve()"
      ],
      "execution_count": 0,
      "outputs": []
    },
    {
      "cell_type": "code",
      "metadata": {
        "id": "djrKn__lHRxH",
        "colab_type": "code",
        "outputId": "6a5270c8-d29d-413c-e561-b399c79b6727",
        "colab": {}
      },
      "source": [
        "#Podanie godzin pracy poszczególnych pracowników w konkretne dni\n",
        "for variable in plan.variables():\n",
        "    print(\"{} = {}\".format(variable.name, variable.varValue))"
      ],
      "execution_count": 0,
      "outputs": [
        {
          "output_type": "execute_result",
          "data": {
            "text/plain": [
              "1"
            ]
          },
          "metadata": {
            "tags": []
          },
          "execution_count": 4
        }
      ]
    },
    {
      "cell_type": "code",
      "metadata": {
        "id": "xAkGwR7HHRxy",
        "colab_type": "code",
        "outputId": "5a01b363-32a4-4cad-d12a-ae095d4e0c2e",
        "colab": {}
      },
      "source": [
        "#Wynik rozwiązania minimalizacji pensji dla pracowników\n",
        "print('Pensja tygodniowa dla pracowników:')\n",
        "print(pulp.value(plan.objective))"
      ],
      "execution_count": 0,
      "outputs": [
        {
          "output_type": "stream",
          "text": [
            "Dostepnosc_czw = 4.0\n",
            "Dostepnosc_nd = 0.0\n",
            "Dostepnosc_pon = 8.0\n",
            "Dostepnosc_pt = 8.0\n",
            "Dostepnosc_sob = 2.0\n",
            "Dostepnosc_sr = 4.0\n",
            "Dostepnosc_wt = 4.0\n",
            "Dostępność_Adam = 10.0\n",
            "Dostępność_Franek = 3.0\n",
            "Dostępność_Igor = 4.0\n",
            "Dostępność_Marcin = 4.0\n",
            "Dostępność_Piotr = 8.0\n",
            "Dostępność_Zuza = 5.0\n",
            "Godziny_pracy_Adam = 10.0\n",
            "Godziny_pracy_Adam_Czw = 4.0\n",
            "Godziny_pracy_Adam_Pon = 0.0\n",
            "Godziny_pracy_Adam_Pt = 3.0\n",
            "Godziny_pracy_Adam_Sob = 2.0\n",
            "Godziny_pracy_Adam_Sr = 0.0\n",
            "Godziny_pracy_Adam_Wt = 1.0\n",
            "Godziny_pracy_Franek = 3.0\n",
            "Godziny_pracy_Franek_Czw = 0.0\n",
            "Godziny_pracy_Franek_Pon = 0.0\n",
            "Godziny_pracy_Franek_Pt = 0.0\n",
            "Godziny_pracy_Franek_Sob = 0.0\n",
            "Godziny_pracy_Franek_Sr = 3.0\n",
            "Godziny_pracy_Franek_Wt = 0.0\n",
            "Godziny_pracy_Igor = 4.0\n",
            "Godziny_pracy_Igor_Czw = 0.0\n",
            "Godziny_pracy_Igor_Pon = 4.0\n",
            "Godziny_pracy_Igor_Pt = 0.0\n",
            "Godziny_pracy_Igor_Sob = 0.0\n",
            "Godziny_pracy_Igor_Sr = 0.0\n",
            "Godziny_pracy_Igor_Wt = 0.0\n",
            "Godziny_pracy_Marcin = 4.0\n",
            "Godziny_pracy_Marcin_Czw = 0.0\n",
            "Godziny_pracy_Marcin_Pon = 4.0\n",
            "Godziny_pracy_Marcin_Pt = 0.0\n",
            "Godziny_pracy_Marcin_Sob = 0.0\n",
            "Godziny_pracy_Marcin_Sr = 0.0\n",
            "Godziny_pracy_Marcin_Wt = 0.0\n",
            "Godziny_pracy_Piotr = 4.0\n",
            "Godziny_pracy_Piotr_Czw = 0.0\n",
            "Godziny_pracy_Piotr_Pon = 0.0\n",
            "Godziny_pracy_Piotr_Pt = 0.0\n",
            "Godziny_pracy_Piotr_Sob = 0.0\n",
            "Godziny_pracy_Piotr_Sr = 1.0\n",
            "Godziny_pracy_Piotr_Wt = 3.0\n",
            "Godziny_pracy_Zuza = 5.0\n",
            "Godziny_pracy_Zuza_Czw = 0.0\n",
            "Godziny_pracy_Zuza_Pon = 0.0\n",
            "Godziny_pracy_Zuza_Pt = 5.0\n",
            "Godziny_pracy_Zuza_Sob = 0.0\n",
            "Godziny_pracy_Zuza_Sr = 0.0\n",
            "Godziny_pracy_Zuza_Wt = 0.0\n"
          ],
          "name": "stdout"
        }
      ]
    },
    {
      "cell_type": "code",
      "metadata": {
        "scrolled": true,
        "id": "tnyqy5WrHRyc",
        "colab_type": "code",
        "outputId": "1b01a60b-9e5e-493f-e071-25b7746a6465",
        "colab": {}
      },
      "source": [
        ""
      ],
      "execution_count": 0,
      "outputs": [
        {
          "output_type": "stream",
          "text": [
            "Pensja tygodniowa dla pracowników:\n",
            "2910.0\n"
          ],
          "name": "stdout"
        }
      ]
    },
    {
      "cell_type": "code",
      "metadata": {
        "id": "I7-Ftm4iHRzE",
        "colab_type": "code",
        "colab": {}
      },
      "source": [
        ""
      ],
      "execution_count": 0,
      "outputs": []
    }
  ]
}