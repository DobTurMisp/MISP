{
  "nbformat": 4,
  "nbformat_minor": 0,
  "metadata": {
    "colab": {
      "name": "Untitled2.ipynb",
      "provenance": [],
      "collapsed_sections": [],
      "authorship_tag": "ABX9TyMuwju85Bp9pyv9LgBTmY2o",
      "include_colab_link": true
    },
    "kernelspec": {
      "name": "python3",
      "display_name": "Python 3"
    }
  },
  "cells": [
    {
      "cell_type": "markdown",
      "metadata": {
        "id": "view-in-github",
        "colab_type": "text"
      },
      "source": [
        "<a href=\"https://colab.research.google.com/github/DobTurMisp/MISP/blob/master/Zadanie_projektowe.ipynb\" target=\"_parent\"><img src=\"https://colab.research.google.com/assets/colab-badge.svg\" alt=\"Open In Colab\"/></a>"
      ]
    },
    {
      "cell_type": "markdown",
      "metadata": {
        "id": "EQSXwFQoiKtH",
        "colab_type": "text"
      },
      "source": [
        " Konrad Turek 208999, \n",
        " Mateusz Dobrowolski 208888\n",
        " \n",
        " **Ghouls, Goblins, and Ghosts... Boo!**\n",
        "\n",
        " https://www.kaggle.com/c/ghouls-goblins-and-ghosts-boo/overview\n",
        "\n",
        " Wzieliśmy udział w konkursie dotyczącym klasyfikacji potworów, aby je rozróżnić podane mieliśmy takie dane jak długość kości, kolor czy stopień zgnilizny."
      ]
    },
    {
      "cell_type": "code",
      "metadata": {
        "id": "H0BUbTguar06",
        "colab_type": "code",
        "colab": {}
      },
      "source": [
        "# zaimportowanie bibliotek \n",
        "import numpy as np \n",
        "import pandas as pd \n",
        "from subprocess import check_output"
      ],
      "execution_count": 0,
      "outputs": []
    },
    {
      "cell_type": "code",
      "metadata": {
        "id": "mZGUoJTGa241",
        "colab_type": "code",
        "colab": {}
      },
      "source": [
        "# odczytanie plików csv \n",
        "train_df = pd.read_csv(\"/content/train.csv\")\n",
        "test_df = pd.read_csv(\"/content/test.csv\")"
      ],
      "execution_count": 0,
      "outputs": []
    },
    {
      "cell_type": "code",
      "metadata": {
        "id": "948qGeePa6WW",
        "colab_type": "code",
        "colab": {}
      },
      "source": [
        "train_outcome = train_df[\"type\"]\n",
        "train_df.drop([\"type\"], axis=1, inplace=True)"
      ],
      "execution_count": 0,
      "outputs": []
    },
    {
      "cell_type": "code",
      "metadata": {
        "id": "sy6X2mloa8ui",
        "colab_type": "code",
        "colab": {}
      },
      "source": [
        "#enkodowanie danych po kolorze \n",
        "dane = pd.concat([train_df[[\"id\", \"color\"]], test_df[[\"id\", \"color\"]]])\n",
        "dane_encoded = pd.get_dummies(dane, columns=[\"color\"])\n",
        "train_df = train_df.merge(dane_encoded, on=\"id\", how=\"left\")\n",
        "test_df = test_df.merge(dane_encoded, on=\"id\", how=\"left\")\n",
        "train_df.drop([\"color\"], axis=1, inplace=True)\n",
        "test_df.drop([\"color\"], axis=1, inplace=True)"
      ],
      "execution_count": 0,
      "outputs": []
    },
    {
      "cell_type": "code",
      "metadata": {
        "id": "DZlrjVEra-aQ",
        "colab_type": "code",
        "colab": {}
      },
      "source": [
        "#oddzielenie identyfikatorów \n",
        "train_id = train_df[[\"id\"]]\n",
        "test_id = test_df[[\"id\"]]\n",
        "train_df.drop([\"id\"], axis=1, inplace=True)\n",
        "test_df.drop([\"id\"], axis=1, inplace=True)"
      ],
      "execution_count": 0,
      "outputs": []
    },
    {
      "cell_type": "code",
      "metadata": {
        "id": "RAedBjdBa_8Y",
        "colab_type": "code",
        "colab": {}
      },
      "source": [
        "#zaimportowanie modelu estymatora\n",
        "from sklearn.ensemble import RandomForestClassifier\n",
        "from sklearn.model_selection import train_test_split"
      ],
      "execution_count": 0,
      "outputs": []
    },
    {
      "cell_type": "code",
      "metadata": {
        "id": "ttvne-ZKbDCc",
        "colab_type": "code",
        "colab": {}
      },
      "source": [
        "#uczenie na części danych\n",
        "X_train, X_val, y_train, y_val = train_test_split(train_df, train_outcome, test_size=0.2)\n",
        "forest = RandomForestClassifier(n_estimators=200, n_jobs=4)\n",
        "forest.fit(X_train, y_train)\n",
        "y_pred_val = forest.predict(X_val)"
      ],
      "execution_count": 0,
      "outputs": []
    },
    {
      "cell_type": "code",
      "metadata": {
        "id": "1Z6BTWJ5bE27",
        "colab_type": "code",
        "colab": {
          "base_uri": "https://localhost:8080/",
          "height": 204
        },
        "outputId": "731759d3-ce5f-47f3-a335-6116c0a91cc9"
      },
      "source": [
        "#wyświetlenie danych\n",
        "from sklearn.metrics import classification_report, accuracy_score\n",
        "print(classification_report(y_val, y_pred_val))\n",
        "print(\"Wynik: {:.1%}\".format(accuracy_score(y_val, y_pred_val)))"
      ],
      "execution_count": 68,
      "outputs": [
        {
          "output_type": "stream",
          "text": [
            "              precision    recall  f1-score   support\n",
            "\n",
            "       Ghost       0.85      0.77      0.81        22\n",
            "       Ghoul       0.65      0.74      0.69        23\n",
            "      Goblin       0.62      0.60      0.61        30\n",
            "\n",
            "    accuracy                           0.69        75\n",
            "   macro avg       0.71      0.70      0.70        75\n",
            "weighted avg       0.70      0.69      0.69        75\n",
            "\n",
            "Wynik: 69.3%\n"
          ],
          "name": "stdout"
        }
      ]
    },
    {
      "cell_type": "code",
      "metadata": {
        "id": "_sEDhTQ0bGj7",
        "colab_type": "code",
        "colab": {}
      },
      "source": [
        "#wykorzystanie pełnego zestawu danych do uczenia \n",
        "forest = RandomForestClassifier(n_estimators=500, n_jobs=4)\n",
        "forest.fit(train_df, train_outcome)\n",
        "y_pred = forest.predict(test_df)"
      ],
      "execution_count": 0,
      "outputs": []
    },
    {
      "cell_type": "code",
      "metadata": {
        "id": "CPbVeVmSbIX1",
        "colab_type": "code",
        "colab": {}
      },
      "source": [
        "wynik = pd.read_csv(\"/content/sample_submission.csv\")\n",
        "wynik[\"type\"] = y_pred"
      ],
      "execution_count": 0,
      "outputs": []
    },
    {
      "cell_type": "code",
      "metadata": {
        "id": "JKbtCQYNbKS9",
        "colab_type": "code",
        "colab": {}
      },
      "source": [
        "#zapisanie wyniku do pliku csv \n",
        "wynik.to_csv(\"/content/submission.csv\", index=False)"
      ],
      "execution_count": 0,
      "outputs": []
    },
    {
      "cell_type": "markdown",
      "metadata": {
        "id": "E9Pfm9P5z7Nd",
        "colab_type": "text"
      },
      "source": [
        "Wysyłając rozwiązanie na konkurs uzyskaliśmy wynik 0.71266"
      ]
    }
  ]
}