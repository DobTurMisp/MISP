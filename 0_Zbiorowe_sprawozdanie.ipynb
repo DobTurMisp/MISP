{
  "nbformat": 4,
  "nbformat_minor": 0,
  "metadata": {
    "colab": {
      "name": "Zbiorowe_sprawozdanie.ipynb",
      "provenance": [],
      "collapsed_sections": [],
      "include_colab_link": true
    },
    "kernelspec": {
      "name": "python3",
      "display_name": "Python 3"
    }
  },
  "cells": [
    {
      "cell_type": "markdown",
      "metadata": {
        "id": "view-in-github",
        "colab_type": "text"
      },
      "source": [
        "<a href=\"https://colab.research.google.com/github/DobTurMisp/MISP/blob/master/0_Zbiorowe_sprawozdanie.ipynb\" target=\"_parent\"><img src=\"https://colab.research.google.com/assets/colab-badge.svg\" alt=\"Open In Colab\"/></a>"
      ]
    },
    {
      "cell_type": "markdown",
      "metadata": {
        "id": "HtASQdvDbwwC",
        "colab_type": "text"
      },
      "source": [
        "**Sprawozdanie z laboratoruim Metod i Systemów Sterownia Produkcją**   \n",
        "Mateusz Dobrowolski 208888\n",
        "Konrad Turek 208999\n"
      ]
    },
    {
      "cell_type": "markdown",
      "metadata": {
        "id": "tqpuvtCNcOgY",
        "colab_type": "text"
      },
      "source": [
        "**Zadanie domowe: Książka telefoniczna**"
      ]
    },
    {
      "cell_type": "markdown",
      "metadata": {
        "id": "JQuvbcrvcqCs",
        "colab_type": "text"
      },
      "source": [
        "Zadanie polegało na stworzeniu programu który będzie rozpoznawał poprawność wpisanego numeru telefonu, oraz da odpowiedź na pytanie czy numer jest komórkowy czy stacjonarny. W przypadku numeru stacjonarnego, program podawał z jakiego miasta on pochodzi na podstawie wprowadzonych kodów regionalnych"
      ]
    },
    {
      "cell_type": "code",
      "metadata": {
        "id": "srGaHo_ibvBw",
        "colab_type": "code",
        "colab": {}
      },
      "source": [
        "#Utworzenie klasy NumerTelefonu\n",
        "class NumerTelefonu():\n",
        "  #Definiowanie słów odpowiadających cyfrom oraz definiowanie numerów kierunkowych do województw\n",
        "  def __init__ (self, numer):\n",
        "    self.numer = numer\n",
        "    self.podawanie_numeru = {\"0\":'zero', \"1\":'jeden', \"2\":'dwa', \"3\":'trzy', \"4\":'cztery', \"5\":'pięć', \"6\":'sześć', \"7\":'siedem', \"8\":'osiem', \"9\":'dziewięć'}\n",
        "    self.kody_regionalne = {\"42\":\"Łódź\", \"41\":\"Koluszki\", \"22\":\"Warszawa\", \"62\":\"Koło\"}\n",
        "  #Sprawdzanie długości numeru (Jak inna niż 9 cyfr to numer niepoprawny)\n",
        "  def spr(self):\n",
        "      if len(self.numer)!=9:\n",
        "         print (\"error\")\n",
        "      else:\n",
        "        print (\"Podany numer telefonu to: {}\".format(self.numer))\n",
        "  #Sprawdzanie czy dany numer jest numerem stacjonarnym czy komórkowym. Jeżeli pierwsze dwie cyfry numeru znajdują się w słowniku kody_regionalne\n",
        "  #Uznajemy, że jest to numer stacjonarny. W przeciwnym wypadku, mamy doczynienia z numerem komórkowym.\n",
        "  def wojewodztwo(self):\n",
        "    if len(self.numer)!=9:\n",
        "       print (\"error\")\n",
        "    else:\n",
        "      if self.numer[:2] in self.kody_regionalne:\n",
        "         print(self.kody_regionalne[self.numer[:2]])\n",
        "      else:\n",
        "         print (\"Jest to numer komórkowy\")\n",
        "  #Podawanie kolejnych słów ze słownika podawanie_numeru na podstawie przeszukiwania klucza w podanym numerze w funkcji for.\n",
        "  def podawanie (self):\n",
        "      podawanie_slowne=\"\"\n",
        "      for numery in self.numer:\n",
        "          podawanie_slowne+= (\" \"+self.podawanie_numeru[numery])\n",
        "      return podawanie_slowne\n",
        "          "
      ],
      "execution_count": 0,
      "outputs": []
    },
    {
      "cell_type": "code",
      "metadata": {
        "id": "ZyrmZ66QckFO",
        "colab_type": "code",
        "colab": {}
      },
      "source": [
        "#Wywołanie funkcji\n",
        "numer=NumerTelefonu(\"426727582\")\n",
        "numer.spr()\n",
        "numer.wojewodztwo()\n",
        "numer.podawanie()"
      ],
      "execution_count": 0,
      "outputs": []
    },
    {
      "cell_type": "markdown",
      "metadata": {
        "id": "2kl-VxXDdDND",
        "colab_type": "text"
      },
      "source": [
        "**Zadanie: Prąd maksymalny**"
      ]
    },
    {
      "cell_type": "markdown",
      "metadata": {
        "id": "FlheVcEWdIV0",
        "colab_type": "text"
      },
      "source": [
        "Zadanie polegało na użyciu funkcji optymalizacyjnej obliczającą maksymalną wartość zdefiniowanego problemu. Na podstawie schematu elektrycznego musieliśmy obliczyć prąd maksymalny który będzie mógł przepłynąć przez konkretną gałąź obwodu elektrycznego. Potrzebna do tego była znajomość podstawowych praw elektrotechniki."
      ]
    },
    {
      "cell_type": "code",
      "metadata": {
        "id": "HuM1WT_9dos0",
        "colab_type": "code",
        "colab": {}
      },
      "source": [
        "#Definiowanie problemu i zmiennych decyzyjnych\n",
        "import pulp\n",
        "\n",
        "prad_max = pulp.LpProblem(\"prad_max\", pulp.LpMaximize)\n",
        "\n",
        "I_1 = pulp.LpVariable('I_1', lowBound=0, cat='Continuous')\n",
        "I_2 = pulp.LpVariable('I_2', lowBound=0, cat='Continuous')\n",
        "I_3 = pulp.LpVariable('I_3', lowBound=0, cat='Continuous')\n",
        "I_4 = pulp.LpVariable('I_4', lowBound=0, cat='Continuous')\n",
        "I_5 = pulp.LpVariable('I_5', lowBound=0, cat='Continuous')"
      ],
      "execution_count": 0,
      "outputs": []
    },
    {
      "cell_type": "code",
      "metadata": {
        "id": "F0VYgHe-dwYq",
        "colab_type": "code",
        "colab": {}
      },
      "source": [
        "# Funkcja celu\n",
        "prad_max += I_1 + I_2, \"Rozwiazanie\"\n",
        "\n",
        "# Ograniczenia\n",
        "\n",
        "prad_max += I_1 <=2, \"I1\"\n",
        "prad_max += I_2 <=3, \"I2\"\n",
        "prad_max += I_3 <=4, \"I3\"\n",
        "prad_max += I_4 <=2, \"I4\"\n",
        "prad_max += I_5 <=2, \"I5\"\n",
        "prad_max += I_1 * 8 == I_2 * 6, \"K1\"\n",
        "prad_max += I_4 * 10 == I_5 * 8,\"K2\"\n",
        "prad_max += I_1+I_2 == I_3, \"KK1\"\n",
        "prad_max += I_4+I_5 == I_3, \"KK2\""
      ],
      "execution_count": 0,
      "outputs": []
    },
    {
      "cell_type": "code",
      "metadata": {
        "id": "uZtaeKJKd5mL",
        "colab_type": "code",
        "colab": {}
      },
      "source": [
        "prad_max"
      ],
      "execution_count": 0,
      "outputs": []
    },
    {
      "cell_type": "markdown",
      "metadata": {
        "id": "RWaeI4I2d64u",
        "colab_type": "text"
      },
      "source": [
        "Etap rozwiązania zadania"
      ]
    },
    {
      "cell_type": "code",
      "metadata": {
        "id": "JZLmV7_1eBTY",
        "colab_type": "code",
        "colab": {}
      },
      "source": [
        "#Rozwiązywanie funkcji\n",
        "prad_max.solve()"
      ],
      "execution_count": 0,
      "outputs": []
    },
    {
      "cell_type": "code",
      "metadata": {
        "id": "GXjaoj73eCxL",
        "colab_type": "code",
        "colab": {}
      },
      "source": [
        "#Podanie wartości obliczonych zmiennych\n",
        "for variable in prad_max.variables():\n",
        "    print(\"{} = {}\".format(variable.name, variable.varValue))"
      ],
      "execution_count": 0,
      "outputs": []
    },
    {
      "cell_type": "code",
      "metadata": {
        "id": "tvnuMS9SeGce",
        "colab_type": "code",
        "colab": {}
      },
      "source": [
        "#Wynik rozwiązania problemu\n",
        "print(pulp.value(prad_max.objective))"
      ],
      "execution_count": 0,
      "outputs": []
    },
    {
      "cell_type": "code",
      "metadata": {
        "id": "xkfc5LJpeJTI",
        "colab_type": "code",
        "colab": {}
      },
      "source": [
        "print(\"\"\"\\nSensitivity Analysis\\n\n",
        "        Name\\tConstraint\\t\\t\\tShadow Price\\t\\tSlack\"\"\")\n",
        "for name, c in prad_max.constraints.items():\n",
        "    print(str(name).ljust(17), \":\", str(c).ljust(33), str(c.pi).ljust(17), str(c.slack).ljust(10))"
      ],
      "execution_count": 0,
      "outputs": []
    },
    {
      "cell_type": "markdown",
      "metadata": {
        "id": "rD7ygeSnec62",
        "colab_type": "text"
      },
      "source": [
        "**Zadanie: Scheduling problem**"
      ]
    },
    {
      "cell_type": "markdown",
      "metadata": {
        "id": "A4CSO6Okehx8",
        "colab_type": "text"
      },
      "source": [
        "Scheduling problem jest zadaniem optymalizacyjnym które ma dać nam odpowiedź na pytania dotyczące układania grafików. W naszym zadaniu mieliśmy stworzyć grafik dla pracowników biblioteki w jak najbardziej optymalny sposób, oraz dodatkowo dobrać czas pracy konkretnych pracowników w taki sposób aby biblioteka wydała najmniej pięniędzy na pensję dla nich."
      ]
    },
    {
      "cell_type": "code",
      "metadata": {
        "id": "8IHTHdOzfJ9h",
        "colab_type": "code",
        "colab": {}
      },
      "source": [
        "from pulp import *\n",
        "import pandas as pd\n",
        "#Utworzenie problemu funkcji minimalizacji i stworzenie zmiennych decyzyjnych\n",
        "\n",
        "plan = pulp.LpProblem(\"plan\", pulp.LpMinimize)\n",
        "#Grafik na dni tygodnia dla każdego pracownika\n",
        "gpIgorPon = pulp.LpVariable('Godziny pracy Igor Pon', lowBound=0, cat='Continous')\n",
        "gpIgorWt = pulp.LpVariable('Godziny pracy Igor Wt', lowBound=0, cat='Continous')\n",
        "gpIgorSr = pulp.LpVariable('Godziny pracy Igor Sr', lowBound=0, cat='Continous')\n",
        "gpIgorCzw = pulp.LpVariable('Godziny pracy Igor Czw', lowBound=0, cat='Continous')\n",
        "gpIgorPt = pulp.LpVariable('Godziny pracy Igor Pt', lowBound=0, cat='Continous')\n",
        "gpIgorSob = pulp.LpVariable('Godziny pracy Igor Sob', lowBound=0, cat='Continous')\n",
        "\n",
        "gpMarcinPon = pulp.LpVariable('Godziny pracy Marcin Pon', lowBound=0, cat='Continous')\n",
        "gpMarcinWt = pulp.LpVariable('Godziny pracy Marcin Wt', lowBound=0, cat='Continous')\n",
        "gpMarcinSr = pulp.LpVariable('Godziny pracy Marcin Sr', lowBound=0, cat='Continous')\n",
        "gpMarcinCzw = pulp.LpVariable('Godziny pracy Marcin Czw', lowBound=0, cat='Continous')\n",
        "gpMarcinPt = pulp.LpVariable('Godziny pracy Marcin Pt', lowBound=0, cat='Continous')\n",
        "gpMarcinSob = pulp.LpVariable('Godziny pracy Marcin Sob', lowBound=0, cat='Continous')\n",
        "\n",
        "gpFranekPon = pulp.LpVariable('Godziny pracy Franek Pon', lowBound=0, cat='Continous')\n",
        "gpFranekWt = pulp.LpVariable('Godziny pracy Franek Wt', lowBound=0, cat='Continous')\n",
        "gpFranekSr = pulp.LpVariable('Godziny pracy Franek Sr', lowBound=0, cat='Continous')\n",
        "gpFranekCzw = pulp.LpVariable('Godziny pracy Franek Czw', lowBound=0, cat='Continous')\n",
        "gpFranekPt = pulp.LpVariable('Godziny pracy Franek Pt', lowBound=0, cat='Continous')\n",
        "gpFranekSob = pulp.LpVariable('Godziny pracy Franek Sob', lowBound=0, cat='Continous')\n",
        "\n",
        "\n",
        "gpPiotrPon = pulp.LpVariable('Godziny pracy Piotr Pon', lowBound=0, cat='Continous')\n",
        "gpPiotrWt = pulp.LpVariable('Godziny pracy Piotr Wt', lowBound=0, cat='Continous')\n",
        "gpPiotrSr = pulp.LpVariable('Godziny pracy Piotr Sr', lowBound=0, cat='Continous')\n",
        "gpPiotrCzw = pulp.LpVariable('Godziny pracy Piotr Czw', lowBound=0, cat='Continous')\n",
        "gpPiotrPt = pulp.LpVariable('Godziny pracy Piotr Pt', lowBound=0, cat='Continous')\n",
        "gpPiotrSob = pulp.LpVariable('Godziny pracy Piotr Sob', lowBound=0, cat='Continous')\n",
        "\n",
        "gpAdamPon = pulp.LpVariable('Godziny pracy Adam Pon', lowBound=0, cat='Continous')\n",
        "gpAdamWt = pulp.LpVariable('Godziny pracy Adam Wt', lowBound=0, cat='Continous')\n",
        "gpAdamSr = pulp.LpVariable('Godziny pracy Adam Sr', lowBound=0, cat='Continous')\n",
        "gpAdamCzw = pulp.LpVariable('Godziny pracy Adam Czw', lowBound=0, cat='Continous')\n",
        "gpAdamPt = pulp.LpVariable('Godziny pracy Adam Pt', lowBound=0, cat='Continous')\n",
        "gpAdamSob = pulp.LpVariable('Godziny pracy Adam Sob', lowBound=0, cat='Continous')\n",
        "\n",
        "gpZuzaPon = pulp.LpVariable('Godziny pracy Zuza Pon', lowBound=0, cat='Continous')\n",
        "gpZuzaWt = pulp.LpVariable('Godziny pracy Zuza Wt', lowBound=0, cat='Continous')\n",
        "gpZuzaSr = pulp.LpVariable('Godziny pracy Zuza Sr', lowBound=0, cat='Continous')\n",
        "gpZuzaCzw = pulp.LpVariable('Godziny pracy Zuza Czw', lowBound=0, cat='Continous')\n",
        "gpZuzaPt = pulp.LpVariable('Godziny pracy Zuza Pt', lowBound=0, cat='Continous')\n",
        "gpZuzaSob = pulp.LpVariable('Godziny pracy Zuza Sob', lowBound=0, cat='Continous')\n",
        "\n",
        "\n",
        "#Godziny czasu pracy\n",
        "gpIgor = pulp.LpVariable('Godziny pracy Igor', lowBound=0, cat='Continous')\n",
        "gpMarcin = pulp.LpVariable('Godziny pracy Marcin', lowBound=0, cat='Continous')\n",
        "gpFranek = pulp.LpVariable('Godziny pracy Franek', lowBound=0, cat='Continous')\n",
        "gpPiotr = pulp.LpVariable('Godziny pracy Piotr', lowBound=0, cat='Continous')\n",
        "gpAdam = pulp.LpVariable('Godziny pracy Adam', lowBound=0, cat='Continous')\n",
        "gpZuza = pulp.LpVariable('Godziny pracy Zuza', lowBound=0, cat='Continous')\n",
        "\n",
        "#Dostępność biblioteki\n",
        "dPon = pulp.LpVariable('Dostepnosc pon', lowBound=0, cat='Continous')\n",
        "dWt = pulp.LpVariable('Dostepnosc wt', lowBound=0, cat='Continous')\n",
        "dSr = pulp.LpVariable('Dostepnosc sr', lowBound=0, cat='Continous')\n",
        "dCzw = pulp.LpVariable('Dostepnosc czw', lowBound=0, cat='Continous')\n",
        "dPt = pulp.LpVariable('Dostepnosc pt', lowBound=0, cat='Continous')\n",
        "dSob = pulp.LpVariable('Dostepnosc sob', lowBound=0, cat='Continous')\n",
        "dNd = pulp.LpVariable('Dostepnosc nd', lowBound=0, cat='Continous')\n",
        "\n",
        "#Dostępność pracowników\n",
        "gdIgor = pulp.LpVariable('Dostępność Igor', lowBound=0, cat='Continous')\n",
        "gdMarcin = pulp.LpVariable('Dostępność Marcin', lowBound=0, cat='Continous')\n",
        "gdFranek = pulp.LpVariable('Dostępność Franek', lowBound=0, cat='Continous')\n",
        "gdPiotr = pulp.LpVariable('Dostępność Piotr', lowBound=0, cat='Continous')\n",
        "gdAdam = pulp.LpVariable('Dostępność Adam', lowBound=0, cat='Continous')\n",
        "gdZuza = pulp.LpVariable('Dostępność Zuza', lowBound=0, cat='Continous')"
      ],
      "execution_count": 0,
      "outputs": []
    },
    {
      "cell_type": "code",
      "metadata": {
        "id": "Qjpk67_HfNJ0",
        "colab_type": "code",
        "colab": {}
      },
      "source": [
        "#Główny problem\n",
        "plan += dPon + dWt + dSr + dCzw + dPt + dSob + dNd == gpIgor + gpMarcin + gpFranek + gpPiotr + gpAdam + gpZuza, \"Godziny pracy\"\n",
        "plan += (gpIgor * 170) + (gpMarcin * 60) + (gpFranek * 80) + (gpPiotr * 200) + (gpAdam * 90) +(gpZuza * 10), \"Koszt pracy\"\n",
        "\n",
        "\n",
        "#Grafik na dni tyg\n",
        "plan += gpIgorPon+gpIgorWt+gpIgorSr+gpIgorCzw+gpIgorPt+gpIgorSob==gpIgor\n",
        "plan += gpPiotrPon+gpPiotrWt+gpPiotrSr+gpPiotrCzw+gpPiotrPt+gpPiotrSob==gpPiotr\n",
        "plan += gpZuzaPon+gpZuzaWt+gpZuzaSr+gpZuzaCzw+gpZuzaPt+gpZuzaSob==gpZuza\n",
        "plan += gpFranekPon+gpFranekWt+gpFranekSr+gpFranekCzw+gpFranekPt+gpFranekSob==gpFranek\n",
        "plan += gpAdamPon+gpAdamWt+gpAdamSr+gpAdamCzw+gpAdamPt+gpAdamSob==gpAdam\n",
        "plan += gpMarcinPon+gpMarcinWt+gpMarcinSr+gpMarcinCzw+gpMarcinPt+gpMarcinSob==gpMarcin\n",
        "\n",
        "\n",
        "plan += gpIgorPon + gpPiotrPon + gpZuzaPon + gpMarcinPon + gpAdamPon + gpFranekPon<=8\n",
        "plan += gpIgorWt + gpPiotrWt + gpZuzaWt + gpMarcinWt + gpAdamWt + gpFranekWt <=4\n",
        "plan += gpIgorSr + gpPiotrSr + gpZuzaSr + gpMarcinSr + gpAdamSr + gpFranekSr <=4\n",
        "plan += gpIgorCzw + gpPiotrCzw + gpZuzaCzw + gpMarcinCzw + gpAdamCzw + gpFranekCzw<=4\n",
        "plan += gpIgorPt + gpPiotrPt + gpZuzaPt + gpMarcinPt + gpAdamPt + gpFranekPt <=8\n",
        "plan += gpIgorSob + gpPiotrSob + gpZuzaSob + gpMarcinSob + gpAdamSob + gpFranekSob <=2\n",
        "\n",
        "#Ograniczenia\n",
        "\n",
        "#Maksymalna dostępność danych pracowników w ciągu tygodnia\n",
        "plan += gdIgor == 4, \"Czas Igora\"\n",
        "plan += gdMarcin == 4, \"Czas Marcina\"\n",
        "plan += gdFranek == 3, \"Czas Franka\"\n",
        "plan += gdPiotr == 8, \"Czas Piotra\"\n",
        "plan += gdAdam == 10, \"Czas Adama\"\n",
        "plan += gdZuza == 5, \"Czas Zuzy\"\n",
        "\n",
        "\n",
        "#Ilość godzin otwarcia biblioteki z podziałem na dni\n",
        "plan += dPon == 8, \"Otwarte w pon\"\n",
        "plan += dWt == 4, \"Otwarte we wt\"\n",
        "plan += dSr == 4, \"Otwarte w sr\"\n",
        "plan += dCzw == 4, \"Otwarte w czw\"\n",
        "plan += dPt == 8, \"Otwarte w pt\"\n",
        "plan += dSob == 2, \"Otwarte w sob\"\n",
        "plan += dNd == 0, \"Otwarte w nd\"\n",
        "\n",
        "#Ograniczenie mówiące, że nie mogą pracować dłużej niż są dostępni\n",
        "plan += gpIgor <= gdIgor, \"Czas pracy Igora\"\n",
        "plan += gpMarcin <= gdMarcin, \"Czas pracy Marcina\"\n",
        "plan += gpFranek <= gdFranek, \"Czas pracy Franka\"\n",
        "plan += gpPiotr <= gdPiotr, \"Czas pracy Piotra\"\n",
        "plan += gpAdam <= gdAdam, \"Czas pracy Adama\"\n",
        "plan += gpZuza <= gdZuza, \"Czas pracy Zuzy\"\n"
      ],
      "execution_count": 0,
      "outputs": []
    },
    {
      "cell_type": "markdown",
      "metadata": {
        "id": "lxYzeZ2RfZ48",
        "colab_type": "text"
      },
      "source": [
        "Etap rozwiązywania problemu"
      ]
    },
    {
      "cell_type": "code",
      "metadata": {
        "id": "2UaktopRfVi1",
        "colab_type": "code",
        "colab": {}
      },
      "source": [
        "plan.solve()"
      ],
      "execution_count": 0,
      "outputs": []
    },
    {
      "cell_type": "code",
      "metadata": {
        "id": "fMWOzh8kfgyr",
        "colab_type": "code",
        "colab": {}
      },
      "source": [
        "#Podanie godzin pracy poszczególnych pracowników w konkretne dni\n",
        "for variable in plan.variables():\n",
        "    print(\"{} = {}\".format(variable.name, variable.varValue))"
      ],
      "execution_count": 0,
      "outputs": []
    },
    {
      "cell_type": "code",
      "metadata": {
        "id": "d4O3l4YwfkMp",
        "colab_type": "code",
        "colab": {}
      },
      "source": [
        "#Wynik rozwiązania minimalizacji pensji dla pracowników\n",
        "print('Pensja tygodniowa dla pracowników:')\n",
        "print(pulp.value(plan.objective))"
      ],
      "execution_count": 0,
      "outputs": []
    },
    {
      "cell_type": "markdown",
      "metadata": {
        "id": "kKP4D1J4fo7F",
        "colab_type": "text"
      },
      "source": [
        "**Zadanie: Titanic**"
      ]
    },
    {
      "cell_type": "markdown",
      "metadata": {
        "id": "jWf4ZAPrgTAL",
        "colab_type": "text"
      },
      "source": [
        "W tym zadaniu wykorzystane zostały mechanizmy uczenia maszynowego w sposób nadzorowany. Zadaniem programu było ustalenie kto przeżyje katastrofę statku."
      ]
    },
    {
      "cell_type": "code",
      "metadata": {
        "id": "SqTfsJZ9jX_S",
        "colab_type": "code",
        "colab": {}
      },
      "source": [
        "#Zaimportowanie odpowiednich bibliotek i podanie ścieżki dostępu do zbioru testowego\n",
        "import pandas as pd\n",
        "\n",
        "test = pd.read_csv(\"/home/misp/nazwa_nowego_folderu2/tytaanik/test.csv\")\n",
        "test_shape = test.shape\n",
        "print(test_shape)"
      ],
      "execution_count": 0,
      "outputs": []
    },
    {
      "cell_type": "code",
      "metadata": {
        "id": "qdaJwhWvjZ0P",
        "colab_type": "code",
        "colab": {}
      },
      "source": [
        "#Scieżka do zbioru do trenowania maszyny\n",
        "train = pd.read_csv(\"/home/misp/nazwa_nowego_folderu2/tytaanik/train.csv\")\n",
        "train_shape = train.shape\n",
        "print(train_shape)"
      ],
      "execution_count": 0,
      "outputs": []
    },
    {
      "cell_type": "code",
      "metadata": {
        "id": "rXo3Zuvbjcr6",
        "colab_type": "code",
        "colab": {}
      },
      "source": [
        "#Określenie wielkości bazy na jakiej ma się uczyć program.\n",
        "#W przypadku określania ilości przykładów, trzeba uważać aby nie dostarczyć programowi za mało danych oraz za dużo.\n",
        "#Gdy podamy za mało, program może nie być w stanie się odpowiednio nauczyć na zbyt okrojonej bazie\n",
        "#Gdy podamy za dużo przykładów, może dojść do efektu, że program zacznie uczyć się \"na pamięć\"\n",
        "\n",
        "train.head(30)"
      ],
      "execution_count": 0,
      "outputs": []
    },
    {
      "cell_type": "code",
      "metadata": {
        "id": "almu9tvsjgmD",
        "colab_type": "code",
        "colab": {}
      },
      "source": [
        "#Wykreślenie tabeli w której uzależniamy od siebie dane o płci pasażerów oraz o ich przeżyciu.\n",
        "#Dzięki temu wiemy, że większość pasażerów która przeżyła była płci żeńskiej\n",
        "import matplotlib.pyplot as plt\n",
        "\n",
        "sex_pivot = train.pivot_table(index=\"Sex\",values=\"Survived\")\n",
        "sex_pivot\n"
      ],
      "execution_count": 0,
      "outputs": []
    },
    {
      "cell_type": "code",
      "metadata": {
        "id": "EC9H9_rpjlDD",
        "colab_type": "code",
        "colab": {}
      },
      "source": [
        "#Tabela osób które przeżyły zależnie od wieku pasażerów\n",
        "import matplotlib.pyplot as plt\n",
        "\n",
        "Age_pivot = train.pivot_table(index=\"Age\",values=\"Survived\")\n",
        "Age_pivot\n"
      ],
      "execution_count": 0,
      "outputs": []
    },
    {
      "cell_type": "code",
      "metadata": {
        "id": "nnItoW6Wjx6E",
        "colab_type": "code",
        "colab": {}
      },
      "source": [
        "# Z której klasy ludziki przeżyły :)\n",
        "#Wykres słupkowy przedstawiający informację na temat przeżywalności katastrofy pasażerów z poszczególnych klas. \n",
        "\n",
        "pclass_pivot = train.pivot_table(index=\"Pclass\",values=\"Survived\")\n",
        "pclass_pivot.plot.bar()\n",
        "plt.show()"
      ],
      "execution_count": 0,
      "outputs": []
    },
    {
      "cell_type": "code",
      "metadata": {
        "id": "7_yS_pauj2IT",
        "colab_type": "code",
        "colab": {}
      },
      "source": [
        "#Opis danej cechy \n",
        "train['Name'].describe()"
      ],
      "execution_count": 0,
      "outputs": []
    },
    {
      "cell_type": "code",
      "metadata": {
        "id": "l1qTmAovj4AX",
        "colab_type": "code",
        "colab": {}
      },
      "source": [
        "#Wszyscy którzy przeżyli\n",
        "\n",
        "train[train[\"Survived\"] == 1]"
      ],
      "execution_count": 0,
      "outputs": []
    },
    {
      "cell_type": "code",
      "metadata": {
        "id": "5JZtqiKaj6mG",
        "colab_type": "code",
        "colab": {}
      },
      "source": [
        "#Wszyscy którzy umarli (nakarmili rybki)\n",
        "\n",
        "train[train[\"Survived\"] == 0]"
      ],
      "execution_count": 0,
      "outputs": []
    },
    {
      "cell_type": "code",
      "metadata": {
        "id": "SWHT8puPj_CI",
        "colab_type": "code",
        "colab": {}
      },
      "source": [
        "#Wykres przedstawiający przeżywalność w zależności od wieku\n",
        "\n",
        "survived = train[train[\"Survived\"] == 1]\n",
        "died = train[train[\"Survived\"] == 0]\n",
        "survived[\"Age\"].plot.hist(alpha=0.5,color='red',bins=50)\n",
        "died[\"Age\"].plot.hist(alpha=0.5,color='blue',bins=50)\n",
        "plt.legend(['Survived','Died'])\n",
        "plt.show()"
      ],
      "execution_count": 0,
      "outputs": []
    },
    {
      "cell_type": "code",
      "metadata": {
        "id": "Y-DI7OpakI4E",
        "colab_type": "code",
        "colab": {}
      },
      "source": [
        "#Wykres przedstawiający która grupa wiekowa (zdefiniowana przez nas) cieszyła się największym \"szczęściem\"\n",
        "def process_age(df,cut_points,label_names):\n",
        "    df[\"Age\"] = df[\"Age\"].fillna(-0.5)\n",
        "    df[\"Age_categories\"] = pd.cut(df[\"Age\"],cut_points,labels=label_names)\n",
        "    return df\n",
        "#Podział na kategorie wiekowe\n",
        "cut_points = [-1,0, 5, 12, 18, 35, 60, 100]\n",
        "#Przypisanie etykiet (nazw) poszczególnym grupom (na podstawie cut_points)\n",
        "label_names = [\"Missing\", 'Infant', \"Child\", 'Teenager', \"Young Adult\", 'Adult', 'Senior']\n",
        "\n",
        "train = process_age(train,cut_points,label_names)\n",
        "test = process_age(test,cut_points,label_names)\n",
        "\n",
        "age_cat_pivot = train.pivot_table(index=\"Age_categories\",values=\"Survived\")\n",
        "age_cat_pivot.plot.bar()\n",
        "plt.show()"
      ],
      "execution_count": 0,
      "outputs": []
    },
    {
      "cell_type": "code",
      "metadata": {
        "id": "vANx4T4jkhvK",
        "colab_type": "code",
        "colab": {}
      },
      "source": [
        "#Ile było pasażerów w danej klasie\n",
        "train['Pclass'].value_counts()"
      ],
      "execution_count": 0,
      "outputs": []
    },
    {
      "cell_type": "code",
      "metadata": {
        "id": "OJP5qvgJkir0",
        "colab_type": "code",
        "colab": {}
      },
      "source": [
        "column_name = \"Pclass\"\n",
        "df = train\n",
        "dummies = pd.get_dummies(df[column_name],prefix=column_name)\n",
        "dummies.head()"
      ],
      "execution_count": 0,
      "outputs": []
    },
    {
      "cell_type": "code",
      "metadata": {
        "id": "Ujuq92x2l-dp",
        "colab_type": "code",
        "colab": {}
      },
      "source": [
        "def create_dummies(df,column_name):\n",
        "    dummies = pd.get_dummies(df[column_name],prefix=column_name)\n",
        "    df = pd.concat([df,dummies],axis=1)\n",
        "    return df\n",
        "\n",
        "train = create_dummies(train,\"Pclass\")\n",
        "test = create_dummies(test,\"Pclass\")\n",
        "train.head()"
      ],
      "execution_count": 0,
      "outputs": []
    },
    {
      "cell_type": "code",
      "metadata": {
        "id": "uwJpgmuamBNu",
        "colab_type": "code",
        "colab": {}
      },
      "source": [
        "train = create_dummies(train,\"Sex\")\n",
        "test = create_dummies(test,\"Sex\")\n",
        "train = create_dummies(train,\"Age_categories\")\n",
        "test = create_dummies(test,\"Age_categories\")"
      ],
      "execution_count": 0,
      "outputs": []
    },
    {
      "cell_type": "code",
      "metadata": {
        "id": "gPyizz-JmHoh",
        "colab_type": "code",
        "colab": {}
      },
      "source": [
        "train.head()"
      ],
      "execution_count": 0,
      "outputs": []
    },
    {
      "cell_type": "code",
      "metadata": {
        "id": "8rVmfBJBmFxf",
        "colab_type": "code",
        "colab": {}
      },
      "source": [
        "columns = ['Pclass_1', 'Pclass_2', 'Pclass_3', 'Sex_female', 'Sex_male',\n",
        "       'Age_categories_Missing','Age_categories_Infant',\n",
        "       'Age_categories_Child', 'Age_categories_Teenager',\n",
        "       'Age_categories_Young Adult', 'Age_categories_Adult',\n",
        "       'Age_categories_Senior']\n",
        "\n",
        "#Zastosowanie regresji liniowej do nauki\n",
        "from sklearn.linear_model import LogisticRegression\n"
      ],
      "execution_count": 0,
      "outputs": []
    },
    {
      "cell_type": "code",
      "metadata": {
        "id": "TTrjUon0mN7Y",
        "colab_type": "code",
        "colab": {}
      },
      "source": [
        "\n",
        "lr = LogisticRegression()\n",
        "columns = ['Pclass_2', 'Pclass_3', 'Sex_male']\n",
        "lr.fit(train[columns], train['Survived'])"
      ],
      "execution_count": 0,
      "outputs": []
    },
    {
      "cell_type": "code",
      "metadata": {
        "id": "0l2oEyFlmT4k",
        "colab_type": "code",
        "colab": {}
      },
      "source": [
        "lr.decision_function(train[columns])"
      ],
      "execution_count": 0,
      "outputs": []
    },
    {
      "cell_type": "code",
      "metadata": {
        "id": "n_ysQKK1mU_t",
        "colab_type": "code",
        "colab": {}
      },
      "source": [
        "lr.coef_"
      ],
      "execution_count": 0,
      "outputs": []
    },
    {
      "cell_type": "code",
      "metadata": {
        "id": "4Tlvu3lumY0W",
        "colab_type": "code",
        "colab": {}
      },
      "source": [
        "lr =LogisticRegression()\n",
        "lr.fit(train[columns], train['Survived'])"
      ],
      "execution_count": 0,
      "outputs": []
    },
    {
      "cell_type": "code",
      "metadata": {
        "id": "b1urnZ_4mefI",
        "colab_type": "code",
        "colab": {}
      },
      "source": [
        "holdout = test \n",
        "\n",
        "from sklearn.model_selection import train_test_split\n",
        "\n",
        "columns = ['Pclass_1', 'Pclass_2', 'Pclass_3', 'Sex_female', 'Sex_male',\n",
        "       'Age_categories_Missing','Age_categories_Infant',\n",
        "       'Age_categories_Child', 'Age_categories_Teenager',\n",
        "       'Age_categories_Young Adult', 'Age_categories_Adult',\n",
        "       'Age_categories_Senior']\n",
        "\n",
        "all_X = train[columns]\n",
        "all_y = train['Survived']\n",
        "\n",
        "train_X, test_X, train_y, test_y = train_test_split(\n",
        "    all_X, all_y, test_size=0.2,random_state=0)"
      ],
      "execution_count": 0,
      "outputs": []
    },
    {
      "cell_type": "code",
      "metadata": {
        "id": "hWacsD3jmhDG",
        "colab_type": "code",
        "colab": {}
      },
      "source": [
        "train_X.shape"
      ],
      "execution_count": 0,
      "outputs": []
    },
    {
      "cell_type": "code",
      "metadata": {
        "id": "JM_lxNhimlhx",
        "colab_type": "code",
        "colab": {}
      },
      "source": [
        "from sklearn.metrics import accuracy_score\n",
        "lr =LogisticRegression()\n",
        "lr.fit(train_X, train_y)\n",
        "predictions = lr.predict(test_X)\n",
        "accuracy = accuracy_score(test_y, predictions)\n",
        "accuracy"
      ],
      "execution_count": 0,
      "outputs": []
    },
    {
      "cell_type": "code",
      "metadata": {
        "id": "U4zBe9VEm8wk",
        "colab_type": "code",
        "colab": {}
      },
      "source": [
        "from sklearn.metrics import confusion_matrix\n",
        "\n",
        "conf_matrix = confusion_matrix(test_y, predictions)\n",
        "pd.DataFrame(conf_matrix, columns=['Survived', 'Died'], index=[['Survived', 'Died']])\n",
        "\n"
      ],
      "execution_count": 0,
      "outputs": []
    },
    {
      "cell_type": "code",
      "metadata": {
        "id": "BcUD39HCmmxJ",
        "colab_type": "code",
        "colab": {}
      },
      "source": [
        "from sklearn.model_selection import cross_val_score\n",
        "import numpy as npa\n",
        "\n",
        "lr = LogisticRegression()\n",
        "scores = cross_val_score(lr, all_X, all_y, cv=10)\n",
        "np.mean(scores)"
      ],
      "execution_count": 0,
      "outputs": []
    },
    {
      "cell_type": "code",
      "metadata": {
        "id": "QeJwvLgImqr0",
        "colab_type": "code",
        "colab": {}
      },
      "source": [
        "columns = ['Pclass_1', 'Pclass_2', 'Pclass_3', 'Sex_female', 'Sex_male',\n",
        "       'Age_categories_Missing','Age_categories_Infant',\n",
        "       'Age_categories_Child', 'Age_categories_Teenager',\n",
        "       'Age_categories_Young Adult', 'Age_categories_Adult',\n",
        "       'Age_categories_Senior']"
      ],
      "execution_count": 0,
      "outputs": []
    },
    {
      "cell_type": "code",
      "metadata": {
        "id": "MWWxVGb2nLqA",
        "colab_type": "code",
        "colab": {}
      },
      "source": [
        "holdout.head()"
      ],
      "execution_count": 0,
      "outputs": []
    },
    {
      "cell_type": "code",
      "metadata": {
        "id": "MHZGV09MnPHn",
        "colab_type": "code",
        "colab": {}
      },
      "source": [
        "#Wyniki przewidywania\n",
        "lr = LogisticRegression()\n",
        "lr.fit(all_X, all_y)\n",
        "holdout_predictions = lr.predict(holdout[columns])\n",
        "holdout_predictions"
      ],
      "execution_count": 0,
      "outputs": []
    },
    {
      "cell_type": "code",
      "metadata": {
        "id": "b-KvM8Z5nUTX",
        "colab_type": "code",
        "colab": {}
      },
      "source": [
        "holdout_ids = holdout[\"PassengerId\"]\n",
        "submission_df = {\"PassengerId\": holdout_ids,\n",
        "                 \"Survived\": holdout_predictions}\n",
        "submission = pd.DataFrame(submission_df)\n",
        "\n",
        "submission.to_csv('titanic_submission.csv', index=False)"
      ],
      "execution_count": 0,
      "outputs": []
    },
    {
      "cell_type": "markdown",
      "metadata": {
        "id": "jXDcBYIYnete",
        "colab_type": "text"
      },
      "source": [
        "**Zadanie: Projekt**"
      ]
    },
    {
      "cell_type": "markdown",
      "metadata": {
        "id": "77UyjzA08anB",
        "colab_type": "text"
      },
      "source": [
        "Konrad Turek 208999, Mateusz Dobrowolski 208888\n",
        "\n",
        "# **Ghouls, Goblins, and Ghosts... Boo!**\n",
        "\n",
        "https://www.kaggle.com/c/ghouls-goblins-and-ghosts-boo/overview\n",
        "\n",
        "Wzieliśmy udział w konkursie dotyczącym klasyfikacji potworów, aby je rozróżnić podane mieliśmy takie dane jak długość kości, kolor czy stopień zgnilizny."
      ]
    },
    {
      "cell_type": "code",
      "metadata": {
        "id": "L9Umpyma8h_8",
        "colab_type": "code",
        "colab": {}
      },
      "source": [
        "# zaimportowanie bibliotek \n",
        "import numpy as np \n",
        "import pandas as pd \n",
        "from subprocess import check_output"
      ],
      "execution_count": 0,
      "outputs": []
    },
    {
      "cell_type": "code",
      "metadata": {
        "id": "mcBYsXI-8lkA",
        "colab_type": "code",
        "colab": {}
      },
      "source": [
        "# odczytanie plików csv \n",
        "train_df = pd.read_csv(\"/content/train.csv\")\n",
        "test_df = pd.read_csv(\"/content/test.csv\")"
      ],
      "execution_count": 0,
      "outputs": []
    },
    {
      "cell_type": "code",
      "metadata": {
        "id": "3Bc1eUD18qY-",
        "colab_type": "code",
        "colab": {}
      },
      "source": [
        "train_outcome = train_df[\"type\"]\n",
        "train_df.drop([\"type\"], axis=1, inplace=True)"
      ],
      "execution_count": 0,
      "outputs": []
    },
    {
      "cell_type": "code",
      "metadata": {
        "id": "xUBnRDAx8sAf",
        "colab_type": "code",
        "colab": {}
      },
      "source": [
        "#enkodowanie danych po kolorze \n",
        "dane = pd.concat([train_df[[\"id\", \"color\"]], test_df[[\"id\", \"color\"]]])\n",
        "dane_encoded = pd.get_dummies(dane, columns=[\"color\"])\n",
        "train_df = train_df.merge(dane_encoded, on=\"id\", how=\"left\")\n",
        "test_df = test_df.merge(dane_encoded, on=\"id\", how=\"left\")\n",
        "train_df.drop([\"color\"], axis=1, inplace=True)\n",
        "test_df.drop([\"color\"], axis=1, inplace=True)"
      ],
      "execution_count": 0,
      "outputs": []
    },
    {
      "cell_type": "code",
      "metadata": {
        "id": "KjDG0ST48v0E",
        "colab_type": "code",
        "colab": {}
      },
      "source": [
        "#oddzielenie identyfikatorów \n",
        "train_id = train_df[[\"id\"]]\n",
        "test_id = test_df[[\"id\"]]\n",
        "train_df.drop([\"id\"], axis=1, inplace=True)\n",
        "test_df.drop([\"id\"], axis=1, inplace=True)"
      ],
      "execution_count": 0,
      "outputs": []
    },
    {
      "cell_type": "code",
      "metadata": {
        "id": "jaJ2gGlv8xvt",
        "colab_type": "code",
        "colab": {}
      },
      "source": [
        "#zaimportowanie modelu estymatora\n",
        "from sklearn.ensemble import RandomForestClassifier\n",
        "from sklearn.model_selection import train_test_split"
      ],
      "execution_count": 0,
      "outputs": []
    },
    {
      "cell_type": "code",
      "metadata": {
        "id": "jzll6w248zwE",
        "colab_type": "code",
        "colab": {}
      },
      "source": [
        "#uczenie na części danych\n",
        "X_train, X_val, y_train, y_val = train_test_split(train_df, train_outcome, test_size=0.2)\n",
        "forest = RandomForestClassifier(n_estimators=200, n_jobs=4)\n",
        "forest.fit(X_train, y_train)\n",
        "y_pred_val = forest.predict(X_val)"
      ],
      "execution_count": 0,
      "outputs": []
    },
    {
      "cell_type": "code",
      "metadata": {
        "id": "1y7ODXJc81cW",
        "colab_type": "code",
        "colab": {}
      },
      "source": [
        "#wyświetlenie danych\n",
        "from sklearn.metrics import classification_report, accuracy_score\n",
        "print(classification_report(y_val, y_pred_val))\n",
        "print(\"Wynik: {:.1%}\".format(accuracy_score(y_val, y_pred_val)))"
      ],
      "execution_count": 0,
      "outputs": []
    },
    {
      "cell_type": "code",
      "metadata": {
        "id": "JLFVh7H983sL",
        "colab_type": "code",
        "colab": {}
      },
      "source": [
        "#wykorzystanie pełnego zestawu danych do uczenia \n",
        "forest = RandomForestClassifier(n_estimators=500, n_jobs=4)\n",
        "forest.fit(train_df, train_outcome)\n",
        "y_pred = forest.predict(test_df)"
      ],
      "execution_count": 0,
      "outputs": []
    },
    {
      "cell_type": "code",
      "metadata": {
        "id": "Lbkjecrl88X9",
        "colab_type": "code",
        "colab": {}
      },
      "source": [
        "wynik = pd.read_csv(\"/content/sample_submission.csv\")\n",
        "wynik[\"type\"] = y_pred"
      ],
      "execution_count": 0,
      "outputs": []
    },
    {
      "cell_type": "code",
      "metadata": {
        "id": "hR8qhrkZ897A",
        "colab_type": "code",
        "colab": {}
      },
      "source": [
        "#zapisanie wyniku do pliku csv \n",
        "wynik.to_csv(\"/content/submission.csv\", index=False)"
      ],
      "execution_count": 0,
      "outputs": []
    },
    {
      "cell_type": "markdown",
      "metadata": {
        "id": "15iTqfl_9AP9",
        "colab_type": "text"
      },
      "source": [
        "Wysyłając rozwiązanie na konkurs uzyskaliśmy wynik 0.71266"
      ]
    }
  ]
}