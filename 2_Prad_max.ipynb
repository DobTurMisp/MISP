{
  "nbformat": 4,
  "nbformat_minor": 0,
  "metadata": {
    "kernelspec": {
      "display_name": "Python 3",
      "language": "python",
      "name": "python3"
    },
    "language_info": {
      "codemirror_mode": {
        "name": "ipython",
        "version": 3
      },
      "file_extension": ".py",
      "mimetype": "text/x-python",
      "name": "python",
      "nbconvert_exporter": "python",
      "pygments_lexer": "ipython3",
      "version": "3.7.3"
    },
    "colab": {
      "name": "2_Prad_max.ipynb",
      "provenance": [],
      "collapsed_sections": [],
      "toc_visible": true,
      "include_colab_link": true
    }
  },
  "cells": [
    {
      "cell_type": "markdown",
      "metadata": {
        "id": "view-in-github",
        "colab_type": "text"
      },
      "source": [
        "<a href=\"https://colab.research.google.com/github/DobTurMisp/MISP/blob/master/2_Prad_max.ipynb\" target=\"_parent\"><img src=\"https://colab.research.google.com/assets/colab-badge.svg\" alt=\"Open In Colab\"/></a>"
      ]
    },
    {
      "cell_type": "code",
      "metadata": {
        "id": "28AsvOqiGFNJ",
        "colab_type": "code",
        "colab": {}
      },
      "source": [
        "#Definiowanie problemu i zmiennych decyzyjnych\n",
        "import pulp\n",
        "\n",
        "prad_max = pulp.LpProblem(\"prad_max\", pulp.LpMaximize)\n",
        "\n",
        "I_1 = pulp.LpVariable('I_1', lowBound=0, cat='Continuous')\n",
        "I_2 = pulp.LpVariable('I_2', lowBound=0, cat='Continuous')\n",
        "I_3 = pulp.LpVariable('I_3', lowBound=0, cat='Continuous')\n",
        "I_4 = pulp.LpVariable('I_4', lowBound=0, cat='Continuous')\n",
        "I_5 = pulp.LpVariable('I_5', lowBound=0, cat='Continuous')"
      ],
      "execution_count": 0,
      "outputs": []
    },
    {
      "cell_type": "code",
      "metadata": {
        "id": "KVWFG7fFGFOP",
        "colab_type": "code",
        "colab": {}
      },
      "source": [
        "# Funkcja celu\n",
        "prad_max += I_1 + I_2, \"Rozwiazanie\"\n",
        "\n",
        "# Ograniczenia\n",
        "#Obliczone na podstawie praw Kirchoffa i Ohma\n",
        "prad_max += I_1 <=2, \"I1\"\n",
        "prad_max += I_2 <=3, \"I2\"\n",
        "prad_max += I_3 <=4, \"I3\"\n",
        "prad_max += I_4 <=2, \"I4\"\n",
        "prad_max += I_5 <=2, \"I5\"\n",
        "prad_max += I_1 * 8 == I_2 * 6, \"K1\"\n",
        "prad_max += I_4 * 10 == I_5 * 8,\"K2\"\n",
        "prad_max += I_1+I_2 == I_3, \"KK1\"\n",
        "prad_max += I_4+I_5 == I_3, \"KK2\""
      ],
      "execution_count": 0,
      "outputs": []
    },
    {
      "cell_type": "code",
      "metadata": {
        "scrolled": true,
        "id": "Tj02aaiaGFPM",
        "colab_type": "code",
        "outputId": "47100293-1022-45c6-aa6b-dfa60050c803",
        "colab": {}
      },
      "source": [
        "prad_max"
      ],
      "execution_count": 0,
      "outputs": [
        {
          "output_type": "execute_result",
          "data": {
            "text/plain": [
              "prad_max:\n",
              "MAXIMIZE\n",
              "1*I_1 + 1*I_2 + 0\n",
              "SUBJECT TO\n",
              "I1: I_1 <= 2\n",
              "\n",
              "I2: I_2 <= 3\n",
              "\n",
              "I3: I_3 <= 4\n",
              "\n",
              "I4: I_4 <= 2\n",
              "\n",
              "I5: I_5 <= 2\n",
              "\n",
              "K1: 8 I_1 - 6 I_2 = 0\n",
              "\n",
              "K2: 10 I_4 - 8 I_5 = 0\n",
              "\n",
              "KK1: I_1 + I_2 - I_3 = 0\n",
              "\n",
              "KK2: - I_3 + I_4 + I_5 = 0\n",
              "\n",
              "VARIABLES\n",
              "I_1 Continuous\n",
              "I_2 Continuous\n",
              "I_3 Continuous\n",
              "I_4 Continuous\n",
              "I_5 Continuous"
            ]
          },
          "metadata": {
            "tags": []
          },
          "execution_count": 3
        }
      ]
    },
    {
      "cell_type": "code",
      "metadata": {
        "id": "OS0ReWI2GFP7",
        "colab_type": "code",
        "outputId": "cbd8597f-36f6-44f3-edf1-81df3e14ad21",
        "colab": {}
      },
      "source": [
        "#Rozwiązywanie funkcji\n",
        "prad_max.solve()"
      ],
      "execution_count": 0,
      "outputs": [
        {
          "output_type": "execute_result",
          "data": {
            "text/plain": [
              "1"
            ]
          },
          "metadata": {
            "tags": []
          },
          "execution_count": 4
        }
      ]
    },
    {
      "cell_type": "code",
      "metadata": {
        "id": "jxMlfFGbGFQp",
        "colab_type": "code",
        "outputId": "d861536f-2e81-4e1f-c637-a8bab1361af5",
        "colab": {}
      },
      "source": [
        "#Podanie wartości obliczonych zmiennych\n",
        "for variable in prad_max.variables():\n",
        "    print(\"{} = {}\".format(variable.name, variable.varValue))"
      ],
      "execution_count": 0,
      "outputs": [
        {
          "output_type": "stream",
          "text": [
            "I_1 = 1.5428571\n",
            "I_2 = 2.0571429\n",
            "I_3 = 3.6\n",
            "I_4 = 1.6\n",
            "I_5 = 2.0\n"
          ],
          "name": "stdout"
        }
      ]
    },
    {
      "cell_type": "code",
      "metadata": {
        "id": "jmtbjZVCGFRQ",
        "colab_type": "code",
        "outputId": "2abfa185-eb2d-4f15-f7e2-f7ee75e3cd75",
        "colab": {}
      },
      "source": [
        "##ROZWIAZANIE##\n",
        "#Wynik rozwiązania problemu\n",
        "print(pulp.value(prad_max.objective))"
      ],
      "execution_count": 0,
      "outputs": [
        {
          "output_type": "stream",
          "text": [
            "3.6\n"
          ],
          "name": "stdout"
        }
      ]
    },
    {
      "cell_type": "code",
      "metadata": {
        "id": "yXZXB_2CGFRz",
        "colab_type": "code",
        "outputId": "bc776f2a-ac9d-4f23-c129-956153874dcd",
        "colab": {}
      },
      "source": [
        "#Wydrukowanie wyników w tabeli\n",
        "print(\"\"\"\\nSensitivity Analysis\\n\n",
        "        Name\\tConstraint\\t\\t\\tShadow Price\\t\\tSlack\"\"\")\n",
        "for name, c in prad_max.constraints.items():\n",
        "    print(str(name).ljust(17), \":\", str(c).ljust(33), str(c.pi).ljust(17), str(c.slack).ljust(10))"
      ],
      "execution_count": 0,
      "outputs": [
        {
          "output_type": "stream",
          "text": [
            "\n",
            "Sensitivity Analysis\n",
            "\n",
            "        Name\tConstraint\t\t\tShadow Price\t\tSlack\n",
            "I1                : I_1 <= 2                          -0.0              0.4571429 \n",
            "I2                : I_2 <= 3                          -0.0              0.9428570999999999\n",
            "I3                : I_3 <= 4                          -0.0              0.3999999999999999\n",
            "I4                : I_4 <= 2                          -0.0              0.3999999999999999\n",
            "I5                : I_5 <= 2                          1.8               -0.0      \n",
            "K1                : 8*I_1 - 6*I_2 = 0                 -2.7755576e-17    -0.0      \n",
            "K2                : 10*I_4 - 8*I_5 = 0                0.1               -0.0      \n",
            "KK1               : I_1 + I_2 - I_3 = 0               1.0               -4.4408921e-16\n",
            "KK2               : -I_3 + I_4 + I_5 = 0              -1.0              -0.0      \n"
          ],
          "name": "stdout"
        }
      ]
    }
  ]
}