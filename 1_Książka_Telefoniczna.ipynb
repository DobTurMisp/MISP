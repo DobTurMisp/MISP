{
  "nbformat": 4,
  "nbformat_minor": 0,
  "metadata": {
    "colab": {
      "name": "1_Książka_Telefoniczna.ipynb",
      "provenance": [],
      "collapsed_sections": [],
      "toc_visible": true,
      "include_colab_link": true
    },
    "kernelspec": {
      "name": "python3",
      "display_name": "Python 3"
    }
  },
  "cells": [
    {
      "cell_type": "markdown",
      "metadata": {
        "id": "view-in-github",
        "colab_type": "text"
      },
      "source": [
        "<a href=\"https://colab.research.google.com/github/DobTurMisp/MISP/blob/master/1_Ksi%C4%85%C5%BCka_Telefoniczna.ipynb\" target=\"_parent\"><img src=\"https://colab.research.google.com/assets/colab-badge.svg\" alt=\"Open In Colab\"/></a>"
      ]
    },
    {
      "cell_type": "code",
      "metadata": {
        "id": "jWKVaQJFlAmG",
        "colab_type": "code",
        "colab": {}
      },
      "source": [
        "\n",
        "class NumerTelefonu():\n",
        "  #Definiowanie słów odpowiadających cyfrom oraz definiowanie numerów kierunkowych do województw\n",
        "  def __init__ (self, numer):\n",
        "    self.numer = numer\n",
        "    self.podawanie_numeru = {\"0\":'zero', \"1\":'jeden', \"2\":'dwa', \"3\":'trzy', \"4\":'cztery', \"5\":'pięć', \"6\":'sześć', \"7\":'siedem', \"8\":'osiem', \"9\":'dziewięć'}\n",
        "    self.kody_regionalne = {\"42\":\"Łódź\", \"41\":\"Koluszki\", \"22\":\"Warszawa\", \"62\":\"Koło\"}\n",
        "  #Sprawdzanie długości numeru (Jak inna niż 9 cyfr to numer niepoprawny)\n",
        "  def spr(self):\n",
        "      if len(self.numer)!=9:\n",
        "         print (\"error\")\n",
        "      else:\n",
        "        print (\"Podany numer telefonu to: {}\".format(self.numer))\n",
        "  #Sprawdzanie czy dany numer jest numerem stacjonarnym czy komórkowym. Jeżeli pierwsze dwie cyfry numeru znajdują się w słowniku kody_regionalne\n",
        "  #Uznajemy, że jest to numer stacjonarny. W przeciwnym wypadku, mamy doczynienia z numerem komórkowym.\n",
        "  def wojewodztwo(self):\n",
        "    if len(self.numer)!=9:\n",
        "       print (\"error\")\n",
        "    else:\n",
        "      if self.numer[:2] in self.kody_regionalne:\n",
        "         print(self.kody_regionalne[self.numer[:2]])\n",
        "      else:\n",
        "         print (\"Jest to numer komórkowy\")\n",
        "  #Podawanie kolejnych słów ze słownika podawanie_numeru na podstawie przeszukiwania klucza w podanym numerze w funkcji for.\n",
        "  def podawanie (self):\n",
        "      podawanie_slowne=\"\"\n",
        "      for numery in self.numer:\n",
        "          podawanie_slowne+= (\" \"+self.podawanie_numeru[numery])\n",
        "      return podawanie_slowne\n",
        "          "
      ],
      "execution_count": 0,
      "outputs": []
    },
    {
      "cell_type": "code",
      "metadata": {
        "id": "jYpxadfAVmmR",
        "colab_type": "code",
        "outputId": "2337dac2-86f7-4614-dc4a-ccaf239704f4",
        "colab": {
          "base_uri": "https://localhost:8080/",
          "height": 68
        }
      },
      "source": [
        "#Wywołanie funkcji\n",
        "numer=NumerTelefonu(\"426727582\")\n",
        "numer.spr()\n",
        "numer.wojewodztwo()\n",
        "numer.podawanie()"
      ],
      "execution_count": 2,
      "outputs": [
        {
          "output_type": "stream",
          "text": [
            "Podany numer telefonu to: 426727582\n",
            "Łódź\n"
          ],
          "name": "stdout"
        },
        {
          "output_type": "execute_result",
          "data": {
            "text/plain": [
              "' cztery dwa sześć siedem dwa siedem pięć osiem dwa'"
            ]
          },
          "metadata": {
            "tags": []
          },
          "execution_count": 2
        }
      ]
    },
    {
      "cell_type": "markdown",
      "metadata": {
        "id": "pPnlFIKEWlLT",
        "colab_type": "text"
      },
      "source": [
        ""
      ]
    }
  ]
}